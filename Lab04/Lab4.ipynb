{
 "cells": [
  {
   "cell_type": "markdown",
   "metadata": {},
   "source": [
    "# Lab 4 - Hypothesis testing and statistical analysis"
   ]
  },
  {
   "cell_type": "markdown",
   "metadata": {},
   "source": [
    "Please read this to the end before starting. There is important information towards the end."
   ]
  },
  {
   "cell_type": "markdown",
   "metadata": {},
   "source": [
    "## Get the data (1 mark)"
   ]
  },
  {
   "cell_type": "code",
   "execution_count": 1,
   "metadata": {
    "pycharm": {
     "name": "#%%\n"
    }
   },
   "outputs": [
    {
     "ename": "ModuleNotFoundError",
     "evalue": "No module named 'matplotlib'",
     "output_type": "error",
     "traceback": [
      "\u001B[0;31m---------------------------------------------------------------------------\u001B[0m",
      "\u001B[0;31mModuleNotFoundError\u001B[0m                       Traceback (most recent call last)",
      "\u001B[0;32m<ipython-input-1-70551cb9255f>\u001B[0m in \u001B[0;36m<module>\u001B[0;34m\u001B[0m\n\u001B[1;32m      1\u001B[0m \u001B[0;32mimport\u001B[0m \u001B[0mpandas\u001B[0m \u001B[0;32mas\u001B[0m \u001B[0mpd\u001B[0m\u001B[0;34m\u001B[0m\u001B[0;34m\u001B[0m\u001B[0m\n\u001B[0;32m----> 2\u001B[0;31m \u001B[0;32mimport\u001B[0m \u001B[0mmatplotlib\u001B[0m\u001B[0;34m.\u001B[0m\u001B[0mpyplot\u001B[0m \u001B[0;32mas\u001B[0m \u001B[0mplt\u001B[0m\u001B[0;34m\u001B[0m\u001B[0;34m\u001B[0m\u001B[0m\n\u001B[0m\u001B[1;32m      3\u001B[0m \u001B[0;32mimport\u001B[0m \u001B[0mnumpy\u001B[0m \u001B[0;32mas\u001B[0m \u001B[0mnp\u001B[0m\u001B[0;34m\u001B[0m\u001B[0;34m\u001B[0m\u001B[0m\n\u001B[1;32m      4\u001B[0m \u001B[0;34m\u001B[0m\u001B[0m\n",
      "\u001B[0;31mModuleNotFoundError\u001B[0m: No module named 'matplotlib'"
     ]
    }
   ],
   "source": [
    "import pandas as pd\n",
    "import matplotlib.pyplot as plt\n",
    "import numpy as np\n",
    "!pip install wordcloud\n",
    "from wordcloud import WordCloud, STOPWORDS \n"
   ]
  },
  {
   "cell_type": "code",
   "execution_count": 59,
   "metadata": {
    "pycharm": {
     "name": "#%%\n"
    }
   },
   "outputs": [
    {
     "data": {
      "text/html": [
       "<div>\n",
       "<style scoped>\n",
       "    .dataframe tbody tr th:only-of-type {\n",
       "        vertical-align: middle;\n",
       "    }\n",
       "\n",
       "    .dataframe tbody tr th {\n",
       "        vertical-align: top;\n",
       "    }\n",
       "\n",
       "    .dataframe thead th {\n",
       "        text-align: right;\n",
       "    }\n",
       "</style>\n",
       "<table border=\"1\" class=\"dataframe\">\n",
       "  <thead>\n",
       "    <tr style=\"text-align: right;\">\n",
       "      <th></th>\n",
       "      <th>North East</th>\n",
       "      <th>North West</th>\n",
       "      <th>Yorkshire and The Humber</th>\n",
       "      <th>East Midlands</th>\n",
       "      <th>West Midlands</th>\n",
       "      <th>East of England</th>\n",
       "      <th>London</th>\n",
       "      <th>South East</th>\n",
       "      <th>South West</th>\n",
       "    </tr>\n",
       "  </thead>\n",
       "  <tbody>\n",
       "    <tr>\n",
       "      <th>0</th>\n",
       "      <td>27</td>\n",
       "      <td>32</td>\n",
       "      <td>65</td>\n",
       "      <td>60</td>\n",
       "      <td>44</td>\n",
       "      <td>79</td>\n",
       "      <td>43</td>\n",
       "      <td>8</td>\n",
       "      <td>9</td>\n",
       "    </tr>\n",
       "    <tr>\n",
       "      <th>1</th>\n",
       "      <td>10</td>\n",
       "      <td>36</td>\n",
       "      <td>40</td>\n",
       "      <td>19</td>\n",
       "      <td>52</td>\n",
       "      <td>46</td>\n",
       "      <td>58</td>\n",
       "      <td>87</td>\n",
       "      <td>40</td>\n",
       "    </tr>\n",
       "    <tr>\n",
       "      <th>2</th>\n",
       "      <td>82</td>\n",
       "      <td>53</td>\n",
       "      <td>60</td>\n",
       "      <td>34</td>\n",
       "      <td>2</td>\n",
       "      <td>29</td>\n",
       "      <td>18</td>\n",
       "      <td>46</td>\n",
       "      <td>57</td>\n",
       "    </tr>\n",
       "    <tr>\n",
       "      <th>3</th>\n",
       "      <td>33</td>\n",
       "      <td>63</td>\n",
       "      <td>25</td>\n",
       "      <td>60</td>\n",
       "      <td>9</td>\n",
       "      <td>26</td>\n",
       "      <td>30</td>\n",
       "      <td>52</td>\n",
       "      <td>74</td>\n",
       "    </tr>\n",
       "    <tr>\n",
       "      <th>4</th>\n",
       "      <td>55</td>\n",
       "      <td>98</td>\n",
       "      <td>4</td>\n",
       "      <td>47</td>\n",
       "      <td>58</td>\n",
       "      <td>37</td>\n",
       "      <td>18</td>\n",
       "      <td>67</td>\n",
       "      <td>19</td>\n",
       "    </tr>\n",
       "    <tr>\n",
       "      <th>...</th>\n",
       "      <td>...</td>\n",
       "      <td>...</td>\n",
       "      <td>...</td>\n",
       "      <td>...</td>\n",
       "      <td>...</td>\n",
       "      <td>...</td>\n",
       "      <td>...</td>\n",
       "      <td>...</td>\n",
       "      <td>...</td>\n",
       "    </tr>\n",
       "    <tr>\n",
       "      <th>995</th>\n",
       "      <td>42</td>\n",
       "      <td>59</td>\n",
       "      <td>47</td>\n",
       "      <td>37</td>\n",
       "      <td>61</td>\n",
       "      <td>67</td>\n",
       "      <td>29</td>\n",
       "      <td>16</td>\n",
       "      <td>21</td>\n",
       "    </tr>\n",
       "    <tr>\n",
       "      <th>996</th>\n",
       "      <td>49</td>\n",
       "      <td>45</td>\n",
       "      <td>16</td>\n",
       "      <td>80</td>\n",
       "      <td>87</td>\n",
       "      <td>86</td>\n",
       "      <td>4</td>\n",
       "      <td>79</td>\n",
       "      <td>74</td>\n",
       "    </tr>\n",
       "    <tr>\n",
       "      <th>997</th>\n",
       "      <td>31</td>\n",
       "      <td>5</td>\n",
       "      <td>25</td>\n",
       "      <td>39</td>\n",
       "      <td>52</td>\n",
       "      <td>22</td>\n",
       "      <td>17</td>\n",
       "      <td>8</td>\n",
       "      <td>34</td>\n",
       "    </tr>\n",
       "    <tr>\n",
       "      <th>998</th>\n",
       "      <td>38</td>\n",
       "      <td>69</td>\n",
       "      <td>52</td>\n",
       "      <td>4</td>\n",
       "      <td>3</td>\n",
       "      <td>76</td>\n",
       "      <td>24</td>\n",
       "      <td>51</td>\n",
       "      <td>94</td>\n",
       "    </tr>\n",
       "    <tr>\n",
       "      <th>999</th>\n",
       "      <td>73</td>\n",
       "      <td>29</td>\n",
       "      <td>59</td>\n",
       "      <td>25</td>\n",
       "      <td>58</td>\n",
       "      <td>43</td>\n",
       "      <td>24</td>\n",
       "      <td>32</td>\n",
       "      <td>0</td>\n",
       "    </tr>\n",
       "  </tbody>\n",
       "</table>\n",
       "<p>1000 rows × 9 columns</p>\n",
       "</div>"
      ],
      "text/plain": [
       "     North East  North West  Yorkshire and The Humber  East Midlands  \\\n",
       "0            27          32                        65             60   \n",
       "1            10          36                        40             19   \n",
       "2            82          53                        60             34   \n",
       "3            33          63                        25             60   \n",
       "4            55          98                         4             47   \n",
       "..          ...         ...                       ...            ...   \n",
       "995          42          59                        47             37   \n",
       "996          49          45                        16             80   \n",
       "997          31           5                        25             39   \n",
       "998          38          69                        52              4   \n",
       "999          73          29                        59             25   \n",
       "\n",
       "     West Midlands  East of England  London  South East  South West  \n",
       "0               44               79      43           8           9  \n",
       "1               52               46      58          87          40  \n",
       "2                2               29      18          46          57  \n",
       "3                9               26      30          52          74  \n",
       "4               58               37      18          67          19  \n",
       "..             ...              ...     ...         ...         ...  \n",
       "995             61               67      29          16          21  \n",
       "996             87               86       4          79          74  \n",
       "997             52               22      17           8          34  \n",
       "998              3               76      24          51          94  \n",
       "999             58               43      24          32           0  \n",
       "\n",
       "[1000 rows x 9 columns]"
      ]
     },
     "execution_count": 59,
     "metadata": {},
     "output_type": "execute_result"
    }
   ],
   "source": [
    "df = pd.read_csv(\"census11sample.csv\", index_col=0)\n",
    "df"
   ]
  },
  {
   "cell_type": "markdown",
   "metadata": {},
   "source": [
    "The data is called `census11sample.csv`. It is on Blackboard. Read it in to a dataframe.\n",
    "This data consists of samples of ages from the 2011 census in England for different regions. Each data point is the age at the last birthday of an individual. So, a zero is a person who has not reached their first birthday, a 35 is a person who is 35 years old, and so on. The exception is that the age 100 really means between 100 and 114. Apparently, the Office for National Statistics filtered out everyone over 114. There is a sample of 1000 individual ages for each of nine regions. The data is *derived from* the Office for National Statistics: 2011 Census aggregate data. UK Data Service (Edition: February 2017). DOI: http://dx.doi.org/10.5257/census/aggregate-2011-2, but was taken from the InFuse website, http://infuse2011.ukdataservice.ac.uk. You will not find the data we are using there, however. These samples were created from this data by Jonathan Shapiro."
   ]
  },
  {
   "cell_type": "markdown",
   "metadata": {},
   "source": [
    "## Divide the data (2 marks)"
   ]
  },
  {
   "cell_type": "markdown",
   "metadata": {
    "pycharm": {
     "name": "#%% md\n"
    }
   },
   "source": [
    "## Splitting the data into explore and test\n",
    "Proportion is 60% explore 40% test <br>\n",
    "The following code randomly splits the original data into testing and exploring by randomly choosing\n",
    "the proportion it was run the first time now"
   ]
  },
  {
   "cell_type": "markdown",
   "metadata": {
    "pycharm": {
     "is_executing": false,
     "name": "#%% md\n"
    }
   },
   "source": [
    "```python\n",
    "df_explore = df.sample(frac=0.6, random_state=1)\n",
    "df_test = df.drop(df_explore.index)\n",
    "df_test = df_test.reset_index()\n",
    "df_test = df_test.drop(columns=[\"index\"])\n",
    "df_explore = df_explore.reset_index()\n",
    "df_explore = df_explore.drop(columns=[\"index\"])\n",
    "```"
   ]
  },
  {
   "cell_type": "code",
   "execution_count": 60,
   "metadata": {
    "pycharm": {
     "name": "#%%\n"
    }
   },
   "outputs": [],
   "source": [
    "df_copy = df.copy()\n",
    "df_explore = df.sample(frac=0.6, random_state=0)\n",
    "df_test = df.drop(df_explore.index)\n",
    "df_test = df_test.reset_index()\n",
    "df_test = df_test.drop(columns=[\"index\"])\n",
    "df_explore = df_explore.reset_index()\n",
    "df_explore = df_explore.drop(columns=[\"index\"])"
   ]
  },
  {
   "cell_type": "markdown",
   "metadata": {
    "pycharm": {
     "name": "#%% md\n"
    }
   },
   "source": [
    "## Saving split data into files"
   ]
  },
  {
   "cell_type": "markdown",
   "metadata": {
    "pycharm": {
     "is_executing": false,
     "name": "#%% md\n"
    }
   },
   "source": [
    "``` python\n",
    "df_test.to_csv(\"test.csv\")\n",
    "df_explore.to_csv(\"explore.csv\")\n",
    "```"
   ]
  },
  {
   "cell_type": "markdown",
   "metadata": {
    "pycharm": {
     "name": "#%% md\n"
    }
   },
   "source": [
    "## Exploring data"
   ]
  },
  {
   "cell_type": "code",
   "execution_count": 61,
   "metadata": {
    "pycharm": {
     "name": "#%%\n"
    }
   },
   "outputs": [
    {
     "data": {
      "text/html": [
       "<div>\n",
       "<style scoped>\n",
       "    .dataframe tbody tr th:only-of-type {\n",
       "        vertical-align: middle;\n",
       "    }\n",
       "\n",
       "    .dataframe tbody tr th {\n",
       "        vertical-align: top;\n",
       "    }\n",
       "\n",
       "    .dataframe thead th {\n",
       "        text-align: right;\n",
       "    }\n",
       "</style>\n",
       "<table border=\"1\" class=\"dataframe\">\n",
       "  <thead>\n",
       "    <tr style=\"text-align: right;\">\n",
       "      <th></th>\n",
       "      <th>North East</th>\n",
       "      <th>North West</th>\n",
       "      <th>Yorkshire and The Humber</th>\n",
       "      <th>East Midlands</th>\n",
       "      <th>West Midlands</th>\n",
       "      <th>East of England</th>\n",
       "      <th>London</th>\n",
       "      <th>South East</th>\n",
       "      <th>South West</th>\n",
       "    </tr>\n",
       "  </thead>\n",
       "  <tbody>\n",
       "    <tr>\n",
       "      <th>0</th>\n",
       "      <td>83</td>\n",
       "      <td>10</td>\n",
       "      <td>60</td>\n",
       "      <td>36</td>\n",
       "      <td>68</td>\n",
       "      <td>41</td>\n",
       "      <td>56</td>\n",
       "      <td>15</td>\n",
       "      <td>45</td>\n",
       "    </tr>\n",
       "    <tr>\n",
       "      <th>1</th>\n",
       "      <td>0</td>\n",
       "      <td>8</td>\n",
       "      <td>1</td>\n",
       "      <td>11</td>\n",
       "      <td>81</td>\n",
       "      <td>38</td>\n",
       "      <td>72</td>\n",
       "      <td>42</td>\n",
       "      <td>23</td>\n",
       "    </tr>\n",
       "    <tr>\n",
       "      <th>2</th>\n",
       "      <td>45</td>\n",
       "      <td>46</td>\n",
       "      <td>50</td>\n",
       "      <td>39</td>\n",
       "      <td>81</td>\n",
       "      <td>44</td>\n",
       "      <td>47</td>\n",
       "      <td>15</td>\n",
       "      <td>40</td>\n",
       "    </tr>\n",
       "    <tr>\n",
       "      <th>3</th>\n",
       "      <td>55</td>\n",
       "      <td>76</td>\n",
       "      <td>4</td>\n",
       "      <td>90</td>\n",
       "      <td>33</td>\n",
       "      <td>81</td>\n",
       "      <td>61</td>\n",
       "      <td>8</td>\n",
       "      <td>79</td>\n",
       "    </tr>\n",
       "    <tr>\n",
       "      <th>4</th>\n",
       "      <td>17</td>\n",
       "      <td>64</td>\n",
       "      <td>42</td>\n",
       "      <td>34</td>\n",
       "      <td>72</td>\n",
       "      <td>38</td>\n",
       "      <td>43</td>\n",
       "      <td>49</td>\n",
       "      <td>68</td>\n",
       "    </tr>\n",
       "    <tr>\n",
       "      <th>...</th>\n",
       "      <td>...</td>\n",
       "      <td>...</td>\n",
       "      <td>...</td>\n",
       "      <td>...</td>\n",
       "      <td>...</td>\n",
       "      <td>...</td>\n",
       "      <td>...</td>\n",
       "      <td>...</td>\n",
       "      <td>...</td>\n",
       "    </tr>\n",
       "    <tr>\n",
       "      <th>595</th>\n",
       "      <td>10</td>\n",
       "      <td>70</td>\n",
       "      <td>20</td>\n",
       "      <td>23</td>\n",
       "      <td>48</td>\n",
       "      <td>26</td>\n",
       "      <td>15</td>\n",
       "      <td>38</td>\n",
       "      <td>45</td>\n",
       "    </tr>\n",
       "    <tr>\n",
       "      <th>596</th>\n",
       "      <td>50</td>\n",
       "      <td>82</td>\n",
       "      <td>48</td>\n",
       "      <td>10</td>\n",
       "      <td>81</td>\n",
       "      <td>72</td>\n",
       "      <td>63</td>\n",
       "      <td>52</td>\n",
       "      <td>31</td>\n",
       "    </tr>\n",
       "    <tr>\n",
       "      <th>597</th>\n",
       "      <td>69</td>\n",
       "      <td>46</td>\n",
       "      <td>83</td>\n",
       "      <td>33</td>\n",
       "      <td>60</td>\n",
       "      <td>58</td>\n",
       "      <td>23</td>\n",
       "      <td>1</td>\n",
       "      <td>40</td>\n",
       "    </tr>\n",
       "    <tr>\n",
       "      <th>598</th>\n",
       "      <td>38</td>\n",
       "      <td>60</td>\n",
       "      <td>56</td>\n",
       "      <td>50</td>\n",
       "      <td>56</td>\n",
       "      <td>31</td>\n",
       "      <td>3</td>\n",
       "      <td>36</td>\n",
       "      <td>14</td>\n",
       "    </tr>\n",
       "    <tr>\n",
       "      <th>599</th>\n",
       "      <td>15</td>\n",
       "      <td>84</td>\n",
       "      <td>3</td>\n",
       "      <td>10</td>\n",
       "      <td>26</td>\n",
       "      <td>42</td>\n",
       "      <td>10</td>\n",
       "      <td>50</td>\n",
       "      <td>72</td>\n",
       "    </tr>\n",
       "  </tbody>\n",
       "</table>\n",
       "<p>600 rows × 9 columns</p>\n",
       "</div>"
      ],
      "text/plain": [
       "     North East  North West  Yorkshire and The Humber  East Midlands  \\\n",
       "0            83          10                        60             36   \n",
       "1             0           8                         1             11   \n",
       "2            45          46                        50             39   \n",
       "3            55          76                         4             90   \n",
       "4            17          64                        42             34   \n",
       "..          ...         ...                       ...            ...   \n",
       "595          10          70                        20             23   \n",
       "596          50          82                        48             10   \n",
       "597          69          46                        83             33   \n",
       "598          38          60                        56             50   \n",
       "599          15          84                         3             10   \n",
       "\n",
       "     West Midlands  East of England  London  South East  South West  \n",
       "0               68               41      56          15          45  \n",
       "1               81               38      72          42          23  \n",
       "2               81               44      47          15          40  \n",
       "3               33               81      61           8          79  \n",
       "4               72               38      43          49          68  \n",
       "..             ...              ...     ...         ...         ...  \n",
       "595             48               26      15          38          45  \n",
       "596             81               72      63          52          31  \n",
       "597             60               58      23           1          40  \n",
       "598             56               31       3          36          14  \n",
       "599             26               42      10          50          72  \n",
       "\n",
       "[600 rows x 9 columns]"
      ]
     },
     "execution_count": 61,
     "metadata": {},
     "output_type": "execute_result"
    }
   ],
   "source": [
    "df_explore = pd.read_csv(\"explore.csv\", index_col=0)\n",
    "df_explore"
   ]
  },
  {
   "cell_type": "markdown",
   "metadata": {
    "pycharm": {
     "name": "#%% md\n"
    }
   },
   "source": [
    "## Testing data"
   ]
  },
  {
   "cell_type": "code",
   "execution_count": 62,
   "metadata": {
    "pycharm": {
     "name": "#%%\n"
    }
   },
   "outputs": [
    {
     "data": {
      "text/html": [
       "<div>\n",
       "<style scoped>\n",
       "    .dataframe tbody tr th:only-of-type {\n",
       "        vertical-align: middle;\n",
       "    }\n",
       "\n",
       "    .dataframe tbody tr th {\n",
       "        vertical-align: top;\n",
       "    }\n",
       "\n",
       "    .dataframe thead th {\n",
       "        text-align: right;\n",
       "    }\n",
       "</style>\n",
       "<table border=\"1\" class=\"dataframe\">\n",
       "  <thead>\n",
       "    <tr style=\"text-align: right;\">\n",
       "      <th></th>\n",
       "      <th>North East</th>\n",
       "      <th>North West</th>\n",
       "      <th>Yorkshire and The Humber</th>\n",
       "      <th>East Midlands</th>\n",
       "      <th>West Midlands</th>\n",
       "      <th>East of England</th>\n",
       "      <th>London</th>\n",
       "      <th>South East</th>\n",
       "      <th>South West</th>\n",
       "    </tr>\n",
       "  </thead>\n",
       "  <tbody>\n",
       "    <tr>\n",
       "      <th>0</th>\n",
       "      <td>10</td>\n",
       "      <td>36</td>\n",
       "      <td>40</td>\n",
       "      <td>19</td>\n",
       "      <td>52</td>\n",
       "      <td>46</td>\n",
       "      <td>58</td>\n",
       "      <td>87</td>\n",
       "      <td>40</td>\n",
       "    </tr>\n",
       "    <tr>\n",
       "      <th>1</th>\n",
       "      <td>62</td>\n",
       "      <td>44</td>\n",
       "      <td>41</td>\n",
       "      <td>76</td>\n",
       "      <td>8</td>\n",
       "      <td>74</td>\n",
       "      <td>54</td>\n",
       "      <td>40</td>\n",
       "      <td>72</td>\n",
       "    </tr>\n",
       "    <tr>\n",
       "      <th>2</th>\n",
       "      <td>51</td>\n",
       "      <td>55</td>\n",
       "      <td>53</td>\n",
       "      <td>64</td>\n",
       "      <td>15</td>\n",
       "      <td>48</td>\n",
       "      <td>35</td>\n",
       "      <td>60</td>\n",
       "      <td>61</td>\n",
       "    </tr>\n",
       "    <tr>\n",
       "      <th>3</th>\n",
       "      <td>40</td>\n",
       "      <td>36</td>\n",
       "      <td>58</td>\n",
       "      <td>62</td>\n",
       "      <td>82</td>\n",
       "      <td>40</td>\n",
       "      <td>20</td>\n",
       "      <td>33</td>\n",
       "      <td>84</td>\n",
       "    </tr>\n",
       "    <tr>\n",
       "      <th>4</th>\n",
       "      <td>46</td>\n",
       "      <td>16</td>\n",
       "      <td>23</td>\n",
       "      <td>7</td>\n",
       "      <td>27</td>\n",
       "      <td>60</td>\n",
       "      <td>63</td>\n",
       "      <td>67</td>\n",
       "      <td>19</td>\n",
       "    </tr>\n",
       "    <tr>\n",
       "      <th>...</th>\n",
       "      <td>...</td>\n",
       "      <td>...</td>\n",
       "      <td>...</td>\n",
       "      <td>...</td>\n",
       "      <td>...</td>\n",
       "      <td>...</td>\n",
       "      <td>...</td>\n",
       "      <td>...</td>\n",
       "      <td>...</td>\n",
       "    </tr>\n",
       "    <tr>\n",
       "      <th>395</th>\n",
       "      <td>12</td>\n",
       "      <td>7</td>\n",
       "      <td>49</td>\n",
       "      <td>89</td>\n",
       "      <td>53</td>\n",
       "      <td>43</td>\n",
       "      <td>55</td>\n",
       "      <td>27</td>\n",
       "      <td>13</td>\n",
       "    </tr>\n",
       "    <tr>\n",
       "      <th>396</th>\n",
       "      <td>26</td>\n",
       "      <td>35</td>\n",
       "      <td>43</td>\n",
       "      <td>52</td>\n",
       "      <td>0</td>\n",
       "      <td>30</td>\n",
       "      <td>44</td>\n",
       "      <td>15</td>\n",
       "      <td>55</td>\n",
       "    </tr>\n",
       "    <tr>\n",
       "      <th>397</th>\n",
       "      <td>37</td>\n",
       "      <td>59</td>\n",
       "      <td>29</td>\n",
       "      <td>83</td>\n",
       "      <td>40</td>\n",
       "      <td>7</td>\n",
       "      <td>5</td>\n",
       "      <td>65</td>\n",
       "      <td>95</td>\n",
       "    </tr>\n",
       "    <tr>\n",
       "      <th>398</th>\n",
       "      <td>38</td>\n",
       "      <td>69</td>\n",
       "      <td>52</td>\n",
       "      <td>4</td>\n",
       "      <td>3</td>\n",
       "      <td>76</td>\n",
       "      <td>24</td>\n",
       "      <td>51</td>\n",
       "      <td>94</td>\n",
       "    </tr>\n",
       "    <tr>\n",
       "      <th>399</th>\n",
       "      <td>73</td>\n",
       "      <td>29</td>\n",
       "      <td>59</td>\n",
       "      <td>25</td>\n",
       "      <td>58</td>\n",
       "      <td>43</td>\n",
       "      <td>24</td>\n",
       "      <td>32</td>\n",
       "      <td>0</td>\n",
       "    </tr>\n",
       "  </tbody>\n",
       "</table>\n",
       "<p>400 rows × 9 columns</p>\n",
       "</div>"
      ],
      "text/plain": [
       "     North East  North West  Yorkshire and The Humber  East Midlands  \\\n",
       "0            10          36                        40             19   \n",
       "1            62          44                        41             76   \n",
       "2            51          55                        53             64   \n",
       "3            40          36                        58             62   \n",
       "4            46          16                        23              7   \n",
       "..          ...         ...                       ...            ...   \n",
       "395          12           7                        49             89   \n",
       "396          26          35                        43             52   \n",
       "397          37          59                        29             83   \n",
       "398          38          69                        52              4   \n",
       "399          73          29                        59             25   \n",
       "\n",
       "     West Midlands  East of England  London  South East  South West  \n",
       "0               52               46      58          87          40  \n",
       "1                8               74      54          40          72  \n",
       "2               15               48      35          60          61  \n",
       "3               82               40      20          33          84  \n",
       "4               27               60      63          67          19  \n",
       "..             ...              ...     ...         ...         ...  \n",
       "395             53               43      55          27          13  \n",
       "396              0               30      44          15          55  \n",
       "397             40                7       5          65          95  \n",
       "398              3               76      24          51          94  \n",
       "399             58               43      24          32           0  \n",
       "\n",
       "[400 rows x 9 columns]"
      ]
     },
     "execution_count": 62,
     "metadata": {},
     "output_type": "execute_result"
    }
   ],
   "source": [
    "df_test = pd.read_csv(\"test.csv\", index_col=0)\n",
    "df_test"
   ]
  },
  {
   "cell_type": "markdown",
   "metadata": {},
   "source": [
    "## Explore the data (5 marks)"
   ]
  },
  {
   "cell_type": "code",
   "execution_count": 63,
   "metadata": {
    "pycharm": {
     "name": "#%%\n"
    }
   },
   "outputs": [
    {
     "data": {
      "text/html": [
       "<div>\n",
       "<style scoped>\n",
       "    .dataframe tbody tr th:only-of-type {\n",
       "        vertical-align: middle;\n",
       "    }\n",
       "\n",
       "    .dataframe tbody tr th {\n",
       "        vertical-align: top;\n",
       "    }\n",
       "\n",
       "    .dataframe thead th {\n",
       "        text-align: right;\n",
       "    }\n",
       "</style>\n",
       "<table border=\"1\" class=\"dataframe\">\n",
       "  <thead>\n",
       "    <tr style=\"text-align: right;\">\n",
       "      <th></th>\n",
       "      <th>North East</th>\n",
       "      <th>North West</th>\n",
       "      <th>Yorkshire and The Humber</th>\n",
       "      <th>East Midlands</th>\n",
       "      <th>West Midlands</th>\n",
       "      <th>East of England</th>\n",
       "      <th>London</th>\n",
       "      <th>South East</th>\n",
       "      <th>South West</th>\n",
       "    </tr>\n",
       "  </thead>\n",
       "  <tbody>\n",
       "    <tr>\n",
       "      <th>count</th>\n",
       "      <td>600.000000</td>\n",
       "      <td>600.000000</td>\n",
       "      <td>600.000000</td>\n",
       "      <td>600.000000</td>\n",
       "      <td>600.000000</td>\n",
       "      <td>600.000000</td>\n",
       "      <td>600.000000</td>\n",
       "      <td>600.000000</td>\n",
       "      <td>600.000000</td>\n",
       "    </tr>\n",
       "    <tr>\n",
       "      <th>mean</th>\n",
       "      <td>40.596667</td>\n",
       "      <td>39.053333</td>\n",
       "      <td>39.253333</td>\n",
       "      <td>39.625000</td>\n",
       "      <td>40.350000</td>\n",
       "      <td>41.506667</td>\n",
       "      <td>36.443333</td>\n",
       "      <td>39.978333</td>\n",
       "      <td>43.291667</td>\n",
       "    </tr>\n",
       "    <tr>\n",
       "      <th>std</th>\n",
       "      <td>23.126147</td>\n",
       "      <td>23.415543</td>\n",
       "      <td>22.760255</td>\n",
       "      <td>23.304639</td>\n",
       "      <td>23.707543</td>\n",
       "      <td>23.345055</td>\n",
       "      <td>21.931449</td>\n",
       "      <td>23.383738</td>\n",
       "      <td>24.346962</td>\n",
       "    </tr>\n",
       "    <tr>\n",
       "      <th>min</th>\n",
       "      <td>0.000000</td>\n",
       "      <td>0.000000</td>\n",
       "      <td>0.000000</td>\n",
       "      <td>0.000000</td>\n",
       "      <td>0.000000</td>\n",
       "      <td>0.000000</td>\n",
       "      <td>0.000000</td>\n",
       "      <td>0.000000</td>\n",
       "      <td>0.000000</td>\n",
       "    </tr>\n",
       "    <tr>\n",
       "      <th>25%</th>\n",
       "      <td>22.000000</td>\n",
       "      <td>19.000000</td>\n",
       "      <td>20.000000</td>\n",
       "      <td>20.000000</td>\n",
       "      <td>19.000000</td>\n",
       "      <td>22.750000</td>\n",
       "      <td>20.000000</td>\n",
       "      <td>20.000000</td>\n",
       "      <td>22.000000</td>\n",
       "    </tr>\n",
       "    <tr>\n",
       "      <th>50%</th>\n",
       "      <td>41.000000</td>\n",
       "      <td>39.000000</td>\n",
       "      <td>39.000000</td>\n",
       "      <td>38.000000</td>\n",
       "      <td>41.000000</td>\n",
       "      <td>41.000000</td>\n",
       "      <td>35.000000</td>\n",
       "      <td>40.000000</td>\n",
       "      <td>44.000000</td>\n",
       "    </tr>\n",
       "    <tr>\n",
       "      <th>75%</th>\n",
       "      <td>58.000000</td>\n",
       "      <td>57.250000</td>\n",
       "      <td>56.000000</td>\n",
       "      <td>58.250000</td>\n",
       "      <td>58.250000</td>\n",
       "      <td>61.000000</td>\n",
       "      <td>52.000000</td>\n",
       "      <td>59.000000</td>\n",
       "      <td>62.000000</td>\n",
       "    </tr>\n",
       "    <tr>\n",
       "      <th>max</th>\n",
       "      <td>94.000000</td>\n",
       "      <td>98.000000</td>\n",
       "      <td>100.000000</td>\n",
       "      <td>95.000000</td>\n",
       "      <td>96.000000</td>\n",
       "      <td>97.000000</td>\n",
       "      <td>92.000000</td>\n",
       "      <td>95.000000</td>\n",
       "      <td>98.000000</td>\n",
       "    </tr>\n",
       "  </tbody>\n",
       "</table>\n",
       "</div>"
      ],
      "text/plain": [
       "       North East  North West  Yorkshire and The Humber  East Midlands  \\\n",
       "count  600.000000  600.000000                600.000000     600.000000   \n",
       "mean    40.596667   39.053333                 39.253333      39.625000   \n",
       "std     23.126147   23.415543                 22.760255      23.304639   \n",
       "min      0.000000    0.000000                  0.000000       0.000000   \n",
       "25%     22.000000   19.000000                 20.000000      20.000000   \n",
       "50%     41.000000   39.000000                 39.000000      38.000000   \n",
       "75%     58.000000   57.250000                 56.000000      58.250000   \n",
       "max     94.000000   98.000000                100.000000      95.000000   \n",
       "\n",
       "       West Midlands  East of England      London  South East  South West  \n",
       "count     600.000000       600.000000  600.000000  600.000000  600.000000  \n",
       "mean       40.350000        41.506667   36.443333   39.978333   43.291667  \n",
       "std        23.707543        23.345055   21.931449   23.383738   24.346962  \n",
       "min         0.000000         0.000000    0.000000    0.000000    0.000000  \n",
       "25%        19.000000        22.750000   20.000000   20.000000   22.000000  \n",
       "50%        41.000000        41.000000   35.000000   40.000000   44.000000  \n",
       "75%        58.250000        61.000000   52.000000   59.000000   62.000000  \n",
       "max        96.000000        97.000000   92.000000   95.000000   98.000000  "
      ]
     },
     "execution_count": 63,
     "metadata": {},
     "output_type": "execute_result"
    }
   ],
   "source": [
    "general_info  = df_explore.describe()\n",
    "general_info"
   ]
  },
  {
   "cell_type": "code",
   "execution_count": 64,
   "metadata": {
    "pycharm": {
     "name": "#%%\n"
    }
   },
   "outputs": [
    {
     "data": {
      "text/plain": [
       "43.291666666666664"
      ]
     },
     "execution_count": 64,
     "metadata": {},
     "output_type": "execute_result"
    }
   ],
   "source": [
    "general_info.loc[\"mean\"].max()"
   ]
  },
  {
   "cell_type": "markdown",
   "metadata": {
    "pycharm": {
     "name": "#%% md\n"
    }
   },
   "source": [
    "The south west has the highest mean age"
   ]
  },
  {
   "cell_type": "markdown",
   "metadata": {},
   "source": [
    "## The national mean age of all the regions"
   ]
  },
  {
   "cell_type": "code",
   "execution_count": 65,
   "metadata": {
    "pycharm": {
     "name": "#%%\n"
    }
   },
   "outputs": [
    {
     "data": {
      "text/plain": [
       "40.010925925925925"
      ]
     },
     "execution_count": 65,
     "metadata": {},
     "output_type": "execute_result"
    }
   ],
   "source": [
    "np.mean(df_explore.values)"
   ]
  },
  {
   "cell_type": "markdown",
   "metadata": {
    "pycharm": {
     "name": "#%% md\n"
    }
   },
   "source": [
    "## Split the ages into three groups\n",
    "- Under working group below 16\n",
    "- Working group [16 - 65]\n",
    "- Retirement age  above 65"
   ]
  },
  {
   "cell_type": "markdown",
   "metadata": {
    "pycharm": {
     "name": "#%% md\n"
    }
   },
   "source": [
    "## Under 16\n",
    "### Entities of the data\n",
    "- we can see the area with the lowest mean is North East"
   ]
  },
  {
   "cell_type": "code",
   "execution_count": 66,
   "metadata": {
    "pycharm": {
     "name": "#%%\n"
    }
   },
   "outputs": [
    {
     "data": {
      "text/html": [
       "<div>\n",
       "<style scoped>\n",
       "    .dataframe tbody tr th:only-of-type {\n",
       "        vertical-align: middle;\n",
       "    }\n",
       "\n",
       "    .dataframe tbody tr th {\n",
       "        vertical-align: top;\n",
       "    }\n",
       "\n",
       "    .dataframe thead th {\n",
       "        text-align: right;\n",
       "    }\n",
       "</style>\n",
       "<table border=\"1\" class=\"dataframe\">\n",
       "  <thead>\n",
       "    <tr style=\"text-align: right;\">\n",
       "      <th></th>\n",
       "      <th>North East</th>\n",
       "      <th>North West</th>\n",
       "      <th>Yorkshire and The Humber</th>\n",
       "      <th>East Midlands</th>\n",
       "      <th>West Midlands</th>\n",
       "      <th>East of England</th>\n",
       "      <th>London</th>\n",
       "      <th>South East</th>\n",
       "      <th>South West</th>\n",
       "    </tr>\n",
       "  </thead>\n",
       "  <tbody>\n",
       "    <tr>\n",
       "      <th>count</th>\n",
       "      <td>102.000000</td>\n",
       "      <td>121.000000</td>\n",
       "      <td>110.000000</td>\n",
       "      <td>118.000000</td>\n",
       "      <td>113.000000</td>\n",
       "      <td>97.000000</td>\n",
       "      <td>121.000000</td>\n",
       "      <td>114.000000</td>\n",
       "      <td>97.000000</td>\n",
       "    </tr>\n",
       "    <tr>\n",
       "      <th>mean</th>\n",
       "      <td>7.323529</td>\n",
       "      <td>7.528926</td>\n",
       "      <td>7.881818</td>\n",
       "      <td>8.008475</td>\n",
       "      <td>7.442478</td>\n",
       "      <td>7.608247</td>\n",
       "      <td>7.041322</td>\n",
       "      <td>7.473684</td>\n",
       "      <td>8.402062</td>\n",
       "    </tr>\n",
       "    <tr>\n",
       "      <th>std</th>\n",
       "      <td>4.883112</td>\n",
       "      <td>4.863254</td>\n",
       "      <td>4.967291</td>\n",
       "      <td>4.426987</td>\n",
       "      <td>4.799438</td>\n",
       "      <td>4.727043</td>\n",
       "      <td>4.766894</td>\n",
       "      <td>4.466613</td>\n",
       "      <td>4.696319</td>\n",
       "    </tr>\n",
       "    <tr>\n",
       "      <th>min</th>\n",
       "      <td>0.000000</td>\n",
       "      <td>0.000000</td>\n",
       "      <td>0.000000</td>\n",
       "      <td>0.000000</td>\n",
       "      <td>0.000000</td>\n",
       "      <td>0.000000</td>\n",
       "      <td>0.000000</td>\n",
       "      <td>0.000000</td>\n",
       "      <td>0.000000</td>\n",
       "    </tr>\n",
       "    <tr>\n",
       "      <th>25%</th>\n",
       "      <td>3.000000</td>\n",
       "      <td>4.000000</td>\n",
       "      <td>4.000000</td>\n",
       "      <td>4.250000</td>\n",
       "      <td>3.000000</td>\n",
       "      <td>4.000000</td>\n",
       "      <td>3.000000</td>\n",
       "      <td>3.000000</td>\n",
       "      <td>5.000000</td>\n",
       "    </tr>\n",
       "    <tr>\n",
       "      <th>50%</th>\n",
       "      <td>7.000000</td>\n",
       "      <td>8.000000</td>\n",
       "      <td>7.500000</td>\n",
       "      <td>9.000000</td>\n",
       "      <td>7.000000</td>\n",
       "      <td>7.000000</td>\n",
       "      <td>7.000000</td>\n",
       "      <td>8.000000</td>\n",
       "      <td>8.000000</td>\n",
       "    </tr>\n",
       "    <tr>\n",
       "      <th>75%</th>\n",
       "      <td>11.000000</td>\n",
       "      <td>12.000000</td>\n",
       "      <td>13.000000</td>\n",
       "      <td>12.000000</td>\n",
       "      <td>12.000000</td>\n",
       "      <td>12.000000</td>\n",
       "      <td>11.000000</td>\n",
       "      <td>11.000000</td>\n",
       "      <td>13.000000</td>\n",
       "    </tr>\n",
       "    <tr>\n",
       "      <th>max</th>\n",
       "      <td>15.000000</td>\n",
       "      <td>15.000000</td>\n",
       "      <td>15.000000</td>\n",
       "      <td>15.000000</td>\n",
       "      <td>15.000000</td>\n",
       "      <td>15.000000</td>\n",
       "      <td>15.000000</td>\n",
       "      <td>15.000000</td>\n",
       "      <td>15.000000</td>\n",
       "    </tr>\n",
       "  </tbody>\n",
       "</table>\n",
       "</div>"
      ],
      "text/plain": [
       "       North East  North West  Yorkshire and The Humber  East Midlands  \\\n",
       "count  102.000000  121.000000                110.000000     118.000000   \n",
       "mean     7.323529    7.528926                  7.881818       8.008475   \n",
       "std      4.883112    4.863254                  4.967291       4.426987   \n",
       "min      0.000000    0.000000                  0.000000       0.000000   \n",
       "25%      3.000000    4.000000                  4.000000       4.250000   \n",
       "50%      7.000000    8.000000                  7.500000       9.000000   \n",
       "75%     11.000000   12.000000                 13.000000      12.000000   \n",
       "max     15.000000   15.000000                 15.000000      15.000000   \n",
       "\n",
       "       West Midlands  East of England      London  South East  South West  \n",
       "count     113.000000        97.000000  121.000000  114.000000   97.000000  \n",
       "mean        7.442478         7.608247    7.041322    7.473684    8.402062  \n",
       "std         4.799438         4.727043    4.766894    4.466613    4.696319  \n",
       "min         0.000000         0.000000    0.000000    0.000000    0.000000  \n",
       "25%         3.000000         4.000000    3.000000    3.000000    5.000000  \n",
       "50%         7.000000         7.000000    7.000000    8.000000    8.000000  \n",
       "75%        12.000000        12.000000   11.000000   11.000000   13.000000  \n",
       "max        15.000000        15.000000   15.000000   15.000000   15.000000  "
      ]
     },
     "execution_count": 66,
     "metadata": {},
     "output_type": "execute_result"
    }
   ],
   "source": [
    "df_explore_describe = df_explore[df_explore < 16].describe()\n",
    "df_explore_describe"
   ]
  },
  {
   "cell_type": "code",
   "execution_count": 67,
   "metadata": {
    "pycharm": {
     "name": "#%%\n"
    }
   },
   "outputs": [
    {
     "data": {
      "text/plain": [
       "7.041322314049586"
      ]
     },
     "execution_count": 67,
     "metadata": {},
     "output_type": "execute_result"
    }
   ],
   "source": [
    "np.min(df_explore_describe.loc['mean'])"
   ]
  },
  {
   "cell_type": "code",
   "execution_count": 68,
   "metadata": {
    "pycharm": {
     "name": "#%%\n"
    }
   },
   "outputs": [
    {
     "data": {
      "text/html": [
       "<div>\n",
       "<style scoped>\n",
       "    .dataframe tbody tr th:only-of-type {\n",
       "        vertical-align: middle;\n",
       "    }\n",
       "\n",
       "    .dataframe tbody tr th {\n",
       "        vertical-align: top;\n",
       "    }\n",
       "\n",
       "    .dataframe thead th {\n",
       "        text-align: right;\n",
       "    }\n",
       "</style>\n",
       "<table border=\"1\" class=\"dataframe\">\n",
       "  <thead>\n",
       "    <tr style=\"text-align: right;\">\n",
       "      <th></th>\n",
       "      <th>Area</th>\n",
       "      <th>Count</th>\n",
       "    </tr>\n",
       "  </thead>\n",
       "  <tbody>\n",
       "    <tr>\n",
       "      <th>0</th>\n",
       "      <td>North East</td>\n",
       "      <td>102</td>\n",
       "    </tr>\n",
       "    <tr>\n",
       "      <th>1</th>\n",
       "      <td>North West</td>\n",
       "      <td>121</td>\n",
       "    </tr>\n",
       "    <tr>\n",
       "      <th>2</th>\n",
       "      <td>Yorkshire and The Humber</td>\n",
       "      <td>110</td>\n",
       "    </tr>\n",
       "    <tr>\n",
       "      <th>3</th>\n",
       "      <td>East Midlands</td>\n",
       "      <td>118</td>\n",
       "    </tr>\n",
       "    <tr>\n",
       "      <th>4</th>\n",
       "      <td>West Midlands</td>\n",
       "      <td>113</td>\n",
       "    </tr>\n",
       "    <tr>\n",
       "      <th>5</th>\n",
       "      <td>East of England</td>\n",
       "      <td>97</td>\n",
       "    </tr>\n",
       "    <tr>\n",
       "      <th>6</th>\n",
       "      <td>London</td>\n",
       "      <td>121</td>\n",
       "    </tr>\n",
       "    <tr>\n",
       "      <th>7</th>\n",
       "      <td>South East</td>\n",
       "      <td>114</td>\n",
       "    </tr>\n",
       "    <tr>\n",
       "      <th>8</th>\n",
       "      <td>South West</td>\n",
       "      <td>97</td>\n",
       "    </tr>\n",
       "  </tbody>\n",
       "</table>\n",
       "</div>"
      ],
      "text/plain": [
       "                       Area  Count\n",
       "0                North East    102\n",
       "1                North West    121\n",
       "2  Yorkshire and The Humber    110\n",
       "3             East Midlands    118\n",
       "4             West Midlands    113\n",
       "5           East of England     97\n",
       "6                    London    121\n",
       "7                South East    114\n",
       "8                South West     97"
      ]
     },
     "execution_count": 68,
     "metadata": {},
     "output_type": "execute_result"
    }
   ],
   "source": [
    "# np_array\n",
    "df_under16 = df_explore[df_explore < 16].count().to_frame()\n",
    "df_under16 = df_under16.reset_index()\n",
    "df_under16 = df_under16.rename(columns={\"index\": \"Area\", 0:\"Count\"})\n",
    "df_under16"
   ]
  },
  {
   "cell_type": "code",
   "execution_count": 69,
   "metadata": {
    "pycharm": {
     "name": "#%%\n"
    }
   },
   "outputs": [
    {
     "data": {
      "text/plain": [
       "12.185297079556898"
      ]
     },
     "execution_count": 69,
     "metadata": {},
     "output_type": "execute_result"
    }
   ],
   "source": [
    "(np.max(df_under16[\"Count\"])/np.sum(df_under16[\"Count\"])) * 100"
   ]
  },
  {
   "cell_type": "markdown",
   "metadata": {
    "pycharm": {
     "name": "#%% md\n"
    }
   },
   "source": [
    "London Counts for 14% of the people under 16"
   ]
  },
  {
   "cell_type": "markdown",
   "metadata": {},
   "source": [
    "## Plot"
   ]
  },
  {
   "cell_type": "code",
   "execution_count": 70,
   "metadata": {
    "pycharm": {
     "name": "#%%\n"
    }
   },
   "outputs": [
    {
     "data": {
      "text/plain": [
       "[]"
      ]
     },
     "execution_count": 70,
     "metadata": {},
     "output_type": "execute_result"
    },
    {
     "data": {
      "image/png": "[encoded data removed]",
      "text/plain": [
       "<Figure size 1080x432 with 1 Axes>"
      ]
     },
     "metadata": {
      "needs_background": "light"
     },
     "output_type": "display_data"
    }
   ],
   "source": [
    "fig, ax = plt.subplots(figsize=(15,6))\n",
    "plt.title(\"Under 16 Plot\")\n",
    "plt.bar(df_under16[\"Area\"], df_under16[\"Count\"])\n",
    "plt.xticks(rotation='vertical')\n",
    "plt.xlabel('Area')\n",
    "plt.ylabel('Count')\n",
    "plt.plot()"
   ]
  },
  {
   "cell_type": "markdown",
   "metadata": {
    "pycharm": {
     "name": "#%% md\n"
    }
   },
   "source": [
    "## 16 - 65 Working age"
   ]
  },
  {
   "cell_type": "code",
   "execution_count": 71,
   "metadata": {
    "pycharm": {
     "name": "#%%\n"
    }
   },
   "outputs": [
    {
     "data": {
      "text/html": [
       "<div>\n",
       "<style scoped>\n",
       "    .dataframe tbody tr th:only-of-type {\n",
       "        vertical-align: middle;\n",
       "    }\n",
       "\n",
       "    .dataframe tbody tr th {\n",
       "        vertical-align: top;\n",
       "    }\n",
       "\n",
       "    .dataframe thead th {\n",
       "        text-align: right;\n",
       "    }\n",
       "</style>\n",
       "<table border=\"1\" class=\"dataframe\">\n",
       "  <thead>\n",
       "    <tr style=\"text-align: right;\">\n",
       "      <th></th>\n",
       "      <th>North East</th>\n",
       "      <th>North West</th>\n",
       "      <th>Yorkshire and The Humber</th>\n",
       "      <th>East Midlands</th>\n",
       "      <th>West Midlands</th>\n",
       "      <th>East of England</th>\n",
       "      <th>London</th>\n",
       "      <th>South East</th>\n",
       "      <th>South West</th>\n",
       "    </tr>\n",
       "  </thead>\n",
       "  <tbody>\n",
       "    <tr>\n",
       "      <th>count</th>\n",
       "      <td>396.000000</td>\n",
       "      <td>389.000000</td>\n",
       "      <td>395.000000</td>\n",
       "      <td>380.000000</td>\n",
       "      <td>385.000000</td>\n",
       "      <td>383.000000</td>\n",
       "      <td>405.000000</td>\n",
       "      <td>380.000000</td>\n",
       "      <td>370.000000</td>\n",
       "    </tr>\n",
       "    <tr>\n",
       "      <th>mean</th>\n",
       "      <td>40.229798</td>\n",
       "      <td>40.365039</td>\n",
       "      <td>39.483544</td>\n",
       "      <td>39.986842</td>\n",
       "      <td>40.688312</td>\n",
       "      <td>39.574413</td>\n",
       "      <td>38.143210</td>\n",
       "      <td>40.052632</td>\n",
       "      <td>40.332432</td>\n",
       "    </tr>\n",
       "    <tr>\n",
       "      <th>std</th>\n",
       "      <td>13.966695</td>\n",
       "      <td>14.121725</td>\n",
       "      <td>13.771950</td>\n",
       "      <td>13.884649</td>\n",
       "      <td>14.384290</td>\n",
       "      <td>13.259752</td>\n",
       "      <td>12.550856</td>\n",
       "      <td>13.731399</td>\n",
       "      <td>13.954835</td>\n",
       "    </tr>\n",
       "    <tr>\n",
       "      <th>min</th>\n",
       "      <td>16.000000</td>\n",
       "      <td>16.000000</td>\n",
       "      <td>16.000000</td>\n",
       "      <td>16.000000</td>\n",
       "      <td>16.000000</td>\n",
       "      <td>16.000000</td>\n",
       "      <td>16.000000</td>\n",
       "      <td>16.000000</td>\n",
       "      <td>16.000000</td>\n",
       "    </tr>\n",
       "    <tr>\n",
       "      <th>25%</th>\n",
       "      <td>28.000000</td>\n",
       "      <td>28.000000</td>\n",
       "      <td>27.000000</td>\n",
       "      <td>28.750000</td>\n",
       "      <td>28.000000</td>\n",
       "      <td>30.000000</td>\n",
       "      <td>28.000000</td>\n",
       "      <td>28.000000</td>\n",
       "      <td>28.000000</td>\n",
       "    </tr>\n",
       "    <tr>\n",
       "      <th>50%</th>\n",
       "      <td>41.000000</td>\n",
       "      <td>41.000000</td>\n",
       "      <td>40.000000</td>\n",
       "      <td>39.000000</td>\n",
       "      <td>42.000000</td>\n",
       "      <td>40.000000</td>\n",
       "      <td>37.000000</td>\n",
       "      <td>40.000000</td>\n",
       "      <td>41.500000</td>\n",
       "    </tr>\n",
       "    <tr>\n",
       "      <th>75%</th>\n",
       "      <td>52.000000</td>\n",
       "      <td>53.000000</td>\n",
       "      <td>51.000000</td>\n",
       "      <td>51.000000</td>\n",
       "      <td>53.000000</td>\n",
       "      <td>49.000000</td>\n",
       "      <td>48.000000</td>\n",
       "      <td>51.000000</td>\n",
       "      <td>52.000000</td>\n",
       "    </tr>\n",
       "    <tr>\n",
       "      <th>max</th>\n",
       "      <td>64.000000</td>\n",
       "      <td>64.000000</td>\n",
       "      <td>64.000000</td>\n",
       "      <td>64.000000</td>\n",
       "      <td>64.000000</td>\n",
       "      <td>64.000000</td>\n",
       "      <td>64.000000</td>\n",
       "      <td>64.000000</td>\n",
       "      <td>64.000000</td>\n",
       "    </tr>\n",
       "  </tbody>\n",
       "</table>\n",
       "</div>"
      ],
      "text/plain": [
       "       North East  North West  Yorkshire and The Humber  East Midlands  \\\n",
       "count  396.000000  389.000000                395.000000     380.000000   \n",
       "mean    40.229798   40.365039                 39.483544      39.986842   \n",
       "std     13.966695   14.121725                 13.771950      13.884649   \n",
       "min     16.000000   16.000000                 16.000000      16.000000   \n",
       "25%     28.000000   28.000000                 27.000000      28.750000   \n",
       "50%     41.000000   41.000000                 40.000000      39.000000   \n",
       "75%     52.000000   53.000000                 51.000000      51.000000   \n",
       "max     64.000000   64.000000                 64.000000      64.000000   \n",
       "\n",
       "       West Midlands  East of England      London  South East  South West  \n",
       "count     385.000000       383.000000  405.000000  380.000000  370.000000  \n",
       "mean       40.688312        39.574413   38.143210   40.052632   40.332432  \n",
       "std        14.384290        13.259752   12.550856   13.731399   13.954835  \n",
       "min        16.000000        16.000000   16.000000   16.000000   16.000000  \n",
       "25%        28.000000        30.000000   28.000000   28.000000   28.000000  \n",
       "50%        42.000000        40.000000   37.000000   40.000000   41.500000  \n",
       "75%        53.000000        49.000000   48.000000   51.000000   52.000000  \n",
       "max        64.000000        64.000000   64.000000   64.000000   64.000000  "
      ]
     },
     "execution_count": 71,
     "metadata": {},
     "output_type": "execute_result"
    }
   ],
   "source": [
    "df_explore[(df_explore >= 16) & (df_explore <65)].describe()"
   ]
  },
  {
   "cell_type": "code",
   "execution_count": 72,
   "metadata": {
    "pycharm": {
     "name": "#%%\n"
    }
   },
   "outputs": [
    {
     "data": {
      "text/html": [
       "<div>\n",
       "<style scoped>\n",
       "    .dataframe tbody tr th:only-of-type {\n",
       "        vertical-align: middle;\n",
       "    }\n",
       "\n",
       "    .dataframe tbody tr th {\n",
       "        vertical-align: top;\n",
       "    }\n",
       "\n",
       "    .dataframe thead th {\n",
       "        text-align: right;\n",
       "    }\n",
       "</style>\n",
       "<table border=\"1\" class=\"dataframe\">\n",
       "  <thead>\n",
       "    <tr style=\"text-align: right;\">\n",
       "      <th></th>\n",
       "      <th>Area</th>\n",
       "      <th>Count</th>\n",
       "    </tr>\n",
       "  </thead>\n",
       "  <tbody>\n",
       "    <tr>\n",
       "      <th>0</th>\n",
       "      <td>North East</td>\n",
       "      <td>396</td>\n",
       "    </tr>\n",
       "    <tr>\n",
       "      <th>1</th>\n",
       "      <td>North West</td>\n",
       "      <td>389</td>\n",
       "    </tr>\n",
       "    <tr>\n",
       "      <th>2</th>\n",
       "      <td>Yorkshire and The Humber</td>\n",
       "      <td>395</td>\n",
       "    </tr>\n",
       "    <tr>\n",
       "      <th>3</th>\n",
       "      <td>East Midlands</td>\n",
       "      <td>380</td>\n",
       "    </tr>\n",
       "    <tr>\n",
       "      <th>4</th>\n",
       "      <td>West Midlands</td>\n",
       "      <td>385</td>\n",
       "    </tr>\n",
       "    <tr>\n",
       "      <th>5</th>\n",
       "      <td>East of England</td>\n",
       "      <td>383</td>\n",
       "    </tr>\n",
       "    <tr>\n",
       "      <th>6</th>\n",
       "      <td>London</td>\n",
       "      <td>405</td>\n",
       "    </tr>\n",
       "    <tr>\n",
       "      <th>7</th>\n",
       "      <td>South East</td>\n",
       "      <td>380</td>\n",
       "    </tr>\n",
       "    <tr>\n",
       "      <th>8</th>\n",
       "      <td>South West</td>\n",
       "      <td>370</td>\n",
       "    </tr>\n",
       "  </tbody>\n",
       "</table>\n",
       "</div>"
      ],
      "text/plain": [
       "                       Area  Count\n",
       "0                North East    396\n",
       "1                North West    389\n",
       "2  Yorkshire and The Humber    395\n",
       "3             East Midlands    380\n",
       "4             West Midlands    385\n",
       "5           East of England    383\n",
       "6                    London    405\n",
       "7                South East    380\n",
       "8                South West    370"
      ]
     },
     "execution_count": 72,
     "metadata": {},
     "output_type": "execute_result"
    }
   ],
   "source": [
    "df_working_age = df_explore[(df_explore >= 16) & (df_explore <65)].count().to_frame()\n",
    "df_working_age = df_working_age.reset_index()\n",
    "df_working_age = df_working_age.rename(columns={\"index\": \"Area\", 0:\"Count\"})\n",
    "df_working_age"
   ]
  },
  {
   "cell_type": "markdown",
   "metadata": {},
   "source": [
    "## Plot"
   ]
  },
  {
   "cell_type": "code",
   "execution_count": 73,
   "metadata": {
    "pycharm": {
     "name": "#%%\n"
    }
   },
   "outputs": [
    {
     "data": {
      "text/plain": [
       "[]"
      ]
     },
     "execution_count": 73,
     "metadata": {},
     "output_type": "execute_result"
    },
    {
     "data": {
      "image/png": "[encoded data removed]",
      "text/plain": [
       "<Figure size 1080x432 with 1 Axes>"
      ]
     },
     "metadata": {
      "needs_background": "light"
     },
     "output_type": "display_data"
    }
   ],
   "source": [
    "fig, ax = plt.subplots(figsize=(15,6))\n",
    "plt.title(\"Working Age Plot\")\n",
    "plt.bar(df_working_age['Area'], df_working_age[\"Count\"], color=\"red\", width=0.8, align='center')\n",
    "plt.xticks(rotation='vertical')\n",
    "plt.xlabel(\"Area\")\n",
    "plt.ylabel(\"Count\")\n",
    "plt.plot()"
   ]
  },
  {
   "cell_type": "markdown",
   "metadata": {
    "pycharm": {
     "name": "#%% md\n"
    }
   },
   "source": [
    "## Above 65 and including 65"
   ]
  },
  {
   "cell_type": "code",
   "execution_count": 74,
   "metadata": {
    "pycharm": {
     "name": "#%%\n"
    }
   },
   "outputs": [
    {
     "data": {
      "text/html": [
       "<div>\n",
       "<style scoped>\n",
       "    .dataframe tbody tr th:only-of-type {\n",
       "        vertical-align: middle;\n",
       "    }\n",
       "\n",
       "    .dataframe tbody tr th {\n",
       "        vertical-align: top;\n",
       "    }\n",
       "\n",
       "    .dataframe thead th {\n",
       "        text-align: right;\n",
       "    }\n",
       "</style>\n",
       "<table border=\"1\" class=\"dataframe\">\n",
       "  <thead>\n",
       "    <tr style=\"text-align: right;\">\n",
       "      <th></th>\n",
       "      <th>North East</th>\n",
       "      <th>North West</th>\n",
       "      <th>Yorkshire and The Humber</th>\n",
       "      <th>East Midlands</th>\n",
       "      <th>West Midlands</th>\n",
       "      <th>East of England</th>\n",
       "      <th>London</th>\n",
       "      <th>South East</th>\n",
       "      <th>South West</th>\n",
       "    </tr>\n",
       "  </thead>\n",
       "  <tbody>\n",
       "    <tr>\n",
       "      <th>count</th>\n",
       "      <td>102.000000</td>\n",
       "      <td>90.000000</td>\n",
       "      <td>95.000000</td>\n",
       "      <td>102.000000</td>\n",
       "      <td>102.000000</td>\n",
       "      <td>120.00000</td>\n",
       "      <td>74.000000</td>\n",
       "      <td>106.000000</td>\n",
       "      <td>133.000000</td>\n",
       "    </tr>\n",
       "    <tr>\n",
       "      <th>mean</th>\n",
       "      <td>75.294118</td>\n",
       "      <td>75.766667</td>\n",
       "      <td>74.621053</td>\n",
       "      <td>74.852941</td>\n",
       "      <td>75.529412</td>\n",
       "      <td>75.07500</td>\n",
       "      <td>75.216216</td>\n",
       "      <td>74.669811</td>\n",
       "      <td>76.969925</td>\n",
       "    </tr>\n",
       "    <tr>\n",
       "      <th>std</th>\n",
       "      <td>7.119334</td>\n",
       "      <td>8.199822</td>\n",
       "      <td>7.833614</td>\n",
       "      <td>7.296272</td>\n",
       "      <td>7.699435</td>\n",
       "      <td>8.71024</td>\n",
       "      <td>8.046560</td>\n",
       "      <td>7.430595</td>\n",
       "      <td>8.224078</td>\n",
       "    </tr>\n",
       "    <tr>\n",
       "      <th>min</th>\n",
       "      <td>65.000000</td>\n",
       "      <td>65.000000</td>\n",
       "      <td>65.000000</td>\n",
       "      <td>65.000000</td>\n",
       "      <td>65.000000</td>\n",
       "      <td>65.00000</td>\n",
       "      <td>65.000000</td>\n",
       "      <td>65.000000</td>\n",
       "      <td>65.000000</td>\n",
       "    </tr>\n",
       "    <tr>\n",
       "      <th>25%</th>\n",
       "      <td>69.250000</td>\n",
       "      <td>68.250000</td>\n",
       "      <td>68.000000</td>\n",
       "      <td>68.000000</td>\n",
       "      <td>69.000000</td>\n",
       "      <td>68.00000</td>\n",
       "      <td>68.250000</td>\n",
       "      <td>69.000000</td>\n",
       "      <td>70.000000</td>\n",
       "    </tr>\n",
       "    <tr>\n",
       "      <th>50%</th>\n",
       "      <td>75.000000</td>\n",
       "      <td>74.500000</td>\n",
       "      <td>73.000000</td>\n",
       "      <td>74.000000</td>\n",
       "      <td>74.500000</td>\n",
       "      <td>72.00000</td>\n",
       "      <td>73.500000</td>\n",
       "      <td>74.000000</td>\n",
       "      <td>76.000000</td>\n",
       "    </tr>\n",
       "    <tr>\n",
       "      <th>75%</th>\n",
       "      <td>80.000000</td>\n",
       "      <td>81.750000</td>\n",
       "      <td>80.000000</td>\n",
       "      <td>80.000000</td>\n",
       "      <td>81.000000</td>\n",
       "      <td>81.00000</td>\n",
       "      <td>81.000000</td>\n",
       "      <td>79.000000</td>\n",
       "      <td>83.000000</td>\n",
       "    </tr>\n",
       "    <tr>\n",
       "      <th>max</th>\n",
       "      <td>94.000000</td>\n",
       "      <td>98.000000</td>\n",
       "      <td>100.000000</td>\n",
       "      <td>95.000000</td>\n",
       "      <td>96.000000</td>\n",
       "      <td>97.00000</td>\n",
       "      <td>92.000000</td>\n",
       "      <td>95.000000</td>\n",
       "      <td>98.000000</td>\n",
       "    </tr>\n",
       "  </tbody>\n",
       "</table>\n",
       "</div>"
      ],
      "text/plain": [
       "       North East  North West  Yorkshire and The Humber  East Midlands  \\\n",
       "count  102.000000   90.000000                 95.000000     102.000000   \n",
       "mean    75.294118   75.766667                 74.621053      74.852941   \n",
       "std      7.119334    8.199822                  7.833614       7.296272   \n",
       "min     65.000000   65.000000                 65.000000      65.000000   \n",
       "25%     69.250000   68.250000                 68.000000      68.000000   \n",
       "50%     75.000000   74.500000                 73.000000      74.000000   \n",
       "75%     80.000000   81.750000                 80.000000      80.000000   \n",
       "max     94.000000   98.000000                100.000000      95.000000   \n",
       "\n",
       "       West Midlands  East of England     London  South East  South West  \n",
       "count     102.000000        120.00000  74.000000  106.000000  133.000000  \n",
       "mean       75.529412         75.07500  75.216216   74.669811   76.969925  \n",
       "std         7.699435          8.71024   8.046560    7.430595    8.224078  \n",
       "min        65.000000         65.00000  65.000000   65.000000   65.000000  \n",
       "25%        69.000000         68.00000  68.250000   69.000000   70.000000  \n",
       "50%        74.500000         72.00000  73.500000   74.000000   76.000000  \n",
       "75%        81.000000         81.00000  81.000000   79.000000   83.000000  \n",
       "max        96.000000         97.00000  92.000000   95.000000   98.000000  "
      ]
     },
     "execution_count": 74,
     "metadata": {},
     "output_type": "execute_result"
    }
   ],
   "source": [
    "df_explore[df_explore >= 65].describe()"
   ]
  },
  {
   "cell_type": "code",
   "execution_count": 75,
   "metadata": {
    "pycharm": {
     "name": "#%%\n"
    }
   },
   "outputs": [
    {
     "data": {
      "text/html": [
       "<div>\n",
       "<style scoped>\n",
       "    .dataframe tbody tr th:only-of-type {\n",
       "        vertical-align: middle;\n",
       "    }\n",
       "\n",
       "    .dataframe tbody tr th {\n",
       "        vertical-align: top;\n",
       "    }\n",
       "\n",
       "    .dataframe thead th {\n",
       "        text-align: right;\n",
       "    }\n",
       "</style>\n",
       "<table border=\"1\" class=\"dataframe\">\n",
       "  <thead>\n",
       "    <tr style=\"text-align: right;\">\n",
       "      <th></th>\n",
       "      <th>Count</th>\n",
       "    </tr>\n",
       "  </thead>\n",
       "  <tbody>\n",
       "    <tr>\n",
       "      <th>North East</th>\n",
       "      <td>102</td>\n",
       "    </tr>\n",
       "    <tr>\n",
       "      <th>North West</th>\n",
       "      <td>90</td>\n",
       "    </tr>\n",
       "    <tr>\n",
       "      <th>Yorkshire and The Humber</th>\n",
       "      <td>95</td>\n",
       "    </tr>\n",
       "    <tr>\n",
       "      <th>East Midlands</th>\n",
       "      <td>102</td>\n",
       "    </tr>\n",
       "    <tr>\n",
       "      <th>West Midlands</th>\n",
       "      <td>102</td>\n",
       "    </tr>\n",
       "    <tr>\n",
       "      <th>East of England</th>\n",
       "      <td>120</td>\n",
       "    </tr>\n",
       "    <tr>\n",
       "      <th>London</th>\n",
       "      <td>74</td>\n",
       "    </tr>\n",
       "    <tr>\n",
       "      <th>South East</th>\n",
       "      <td>106</td>\n",
       "    </tr>\n",
       "    <tr>\n",
       "      <th>South West</th>\n",
       "      <td>133</td>\n",
       "    </tr>\n",
       "  </tbody>\n",
       "</table>\n",
       "</div>"
      ],
      "text/plain": [
       "                          Count\n",
       "North East                  102\n",
       "North West                   90\n",
       "Yorkshire and The Humber     95\n",
       "East Midlands               102\n",
       "West Midlands               102\n",
       "East of England             120\n",
       "London                       74\n",
       "South East                  106\n",
       "South West                  133"
      ]
     },
     "execution_count": 75,
     "metadata": {},
     "output_type": "execute_result"
    }
   ],
   "source": [
    "df_retired = df_explore[df_explore >= 65].count().to_frame()\n",
    "#df_retired = df_retired.reset_index()\n",
    "df_retired = df_retired.rename(columns={\"index\": \"Area\",0:\"Count\"})\n",
    "df_retired"
   ]
  },
  {
   "cell_type": "markdown",
   "metadata": {
    "pycharm": {
     "is_executing": false,
     "name": "#%% md\n"
    }
   },
   "source": [
    "## Plot"
   ]
  },
  {
   "cell_type": "code",
   "execution_count": 76,
   "metadata": {
    "pycharm": {
     "name": "#%%\n"
    }
   },
   "outputs": [
    {
     "data": {
      "text/plain": [
       "[]"
      ]
     },
     "execution_count": 76,
     "metadata": {},
     "output_type": "execute_result"
    },
    {
     "data": {
      "image/png": "[encoded data removed]",
      "text/plain": [
       "<Figure size 1080x432 with 1 Axes>"
      ]
     },
     "metadata": {
      "needs_background": "light"
     },
     "output_type": "display_data"
    }
   ],
   "source": [
    "fig, ax = plt.subplots(figsize=(15,6))\n",
    "plt.title(\"Retired Plot\")\n",
    "plt.bar(df_retired.index, height=df_retired[\"Count\"], color= \"green\")\n",
    "plt.xticks(rotation='vertical')\n",
    "plt.xlabel('Area')\n",
    "plt.ylabel('Count')\n",
    "plt.plot()"
   ]
  },
  {
   "cell_type": "markdown",
   "metadata": {
    "pycharm": {
     "name": "#%% md\n"
    }
   },
   "source": [
    "## Summary of all the Points"
   ]
  },
  {
   "cell_type": "code",
   "execution_count": 77,
   "metadata": {
    "pycharm": {
     "name": "#%%\n"
    }
   },
   "outputs": [
    {
     "data": {
      "text/html": [
       "<div>\n",
       "<style scoped>\n",
       "    .dataframe tbody tr th:only-of-type {\n",
       "        vertical-align: middle;\n",
       "    }\n",
       "\n",
       "    .dataframe tbody tr th {\n",
       "        vertical-align: top;\n",
       "    }\n",
       "\n",
       "    .dataframe thead th {\n",
       "        text-align: right;\n",
       "    }\n",
       "</style>\n",
       "<table border=\"1\" class=\"dataframe\">\n",
       "  <thead>\n",
       "    <tr style=\"text-align: right;\">\n",
       "      <th></th>\n",
       "      <th>Under 16</th>\n",
       "      <th>Working age</th>\n",
       "      <th>Retired</th>\n",
       "    </tr>\n",
       "  </thead>\n",
       "  <tbody>\n",
       "    <tr>\n",
       "      <th>North East</th>\n",
       "      <td>102</td>\n",
       "      <td>396</td>\n",
       "      <td>102</td>\n",
       "    </tr>\n",
       "    <tr>\n",
       "      <th>North West</th>\n",
       "      <td>121</td>\n",
       "      <td>389</td>\n",
       "      <td>90</td>\n",
       "    </tr>\n",
       "    <tr>\n",
       "      <th>Yorkshire and The Humber</th>\n",
       "      <td>110</td>\n",
       "      <td>395</td>\n",
       "      <td>95</td>\n",
       "    </tr>\n",
       "    <tr>\n",
       "      <th>East Midlands</th>\n",
       "      <td>118</td>\n",
       "      <td>380</td>\n",
       "      <td>102</td>\n",
       "    </tr>\n",
       "    <tr>\n",
       "      <th>West Midlands</th>\n",
       "      <td>113</td>\n",
       "      <td>385</td>\n",
       "      <td>102</td>\n",
       "    </tr>\n",
       "    <tr>\n",
       "      <th>East of England</th>\n",
       "      <td>97</td>\n",
       "      <td>383</td>\n",
       "      <td>120</td>\n",
       "    </tr>\n",
       "    <tr>\n",
       "      <th>London</th>\n",
       "      <td>121</td>\n",
       "      <td>405</td>\n",
       "      <td>74</td>\n",
       "    </tr>\n",
       "    <tr>\n",
       "      <th>South East</th>\n",
       "      <td>114</td>\n",
       "      <td>380</td>\n",
       "      <td>106</td>\n",
       "    </tr>\n",
       "    <tr>\n",
       "      <th>South West</th>\n",
       "      <td>97</td>\n",
       "      <td>370</td>\n",
       "      <td>133</td>\n",
       "    </tr>\n",
       "  </tbody>\n",
       "</table>\n",
       "</div>"
      ],
      "text/plain": [
       "                          Under 16  Working age  Retired\n",
       "North East                     102          396      102\n",
       "North West                     121          389       90\n",
       "Yorkshire and The Humber       110          395       95\n",
       "East Midlands                  118          380      102\n",
       "West Midlands                  113          385      102\n",
       "East of England                 97          383      120\n",
       "London                         121          405       74\n",
       "South East                     114          380      106\n",
       "South West                      97          370      133"
      ]
     },
     "execution_count": 77,
     "metadata": {},
     "output_type": "execute_result"
    }
   ],
   "source": [
    "df_all_data = pd.DataFrame([df_explore[df_explore < 16].count(),\n",
    "                            df_explore[(df_explore >= 16) & (df_explore <65)].count(),\n",
    "                            df_explore[df_explore >= 65].count()])\n",
    "df_all_data = df_all_data.transpose()\n",
    "df_all_data = df_all_data.rename(columns={0:\"Under 16\", 1:\"Working age\", 2:\"Retired\"})\n",
    "df_all_data.to_csv(\"all_data_split_by_working_age.csv\")\n",
    "df_all_data"
   ]
  },
  {
   "cell_type": "code",
   "execution_count": 78,
   "metadata": {
    "pycharm": {
     "name": "#%%\n"
    }
   },
   "outputs": [
    {
     "data": {
      "text/plain": [
       "<matplotlib.axes._subplots.AxesSubplot at 0x7f6e14830c90>"
      ]
     },
     "execution_count": 78,
     "metadata": {},
     "output_type": "execute_result"
    },
    {
     "data": {
      "image/png": "[encoded data removed]",
      "text/plain": [
       "<Figure size 432x288 with 1 Axes>"
      ]
     },
     "metadata": {
      "needs_background": "light"
     },
     "output_type": "display_data"
    }
   ],
   "source": [
    "df_all_data.plot.bar()"
   ]
  },
  {
   "cell_type": "markdown",
   "metadata": {},
   "source": [
    "## Combine the regions into larger regions\n",
    "- North East, North West, Yorkshire and the Humber into North\n",
    "- East Midlands, West Midlands into Midlands\n",
    "- South East, South West and London into South\n",
    "- East of England"
   ]
  },
  {
   "cell_type": "code",
   "execution_count": 79,
   "metadata": {
    "pycharm": {
     "name": "#%%\n"
    }
   },
   "outputs": [
    {
     "data": {
      "text/html": [
       "<div>\n",
       "<style scoped>\n",
       "    .dataframe tbody tr th:only-of-type {\n",
       "        vertical-align: middle;\n",
       "    }\n",
       "\n",
       "    .dataframe tbody tr th {\n",
       "        vertical-align: top;\n",
       "    }\n",
       "\n",
       "    .dataframe thead th {\n",
       "        text-align: right;\n",
       "    }\n",
       "</style>\n",
       "<table border=\"1\" class=\"dataframe\">\n",
       "  <thead>\n",
       "    <tr style=\"text-align: right;\">\n",
       "      <th></th>\n",
       "      <th>North</th>\n",
       "      <th>Midlands</th>\n",
       "      <th>South</th>\n",
       "      <th>East</th>\n",
       "    </tr>\n",
       "  </thead>\n",
       "  <tbody>\n",
       "    <tr>\n",
       "      <th>Under 16</th>\n",
       "      <td>333</td>\n",
       "      <td>231</td>\n",
       "      <td>332</td>\n",
       "      <td>97</td>\n",
       "    </tr>\n",
       "    <tr>\n",
       "      <th>Working age</th>\n",
       "      <td>1180</td>\n",
       "      <td>765</td>\n",
       "      <td>1155</td>\n",
       "      <td>383</td>\n",
       "    </tr>\n",
       "    <tr>\n",
       "      <th>Retired</th>\n",
       "      <td>287</td>\n",
       "      <td>204</td>\n",
       "      <td>313</td>\n",
       "      <td>120</td>\n",
       "    </tr>\n",
       "  </tbody>\n",
       "</table>\n",
       "</div>"
      ],
      "text/plain": [
       "             North  Midlands  South  East\n",
       "Under 16       333       231    332    97\n",
       "Working age   1180       765   1155   383\n",
       "Retired        287       204    313   120"
      ]
     },
     "execution_count": 79,
     "metadata": {},
     "output_type": "execute_result"
    }
   ],
   "source": [
    "north_ser = df_all_data.loc[\"North East\"] +\\\n",
    "            df_all_data.loc[\"North West\"] +\\\n",
    "            df_all_data.loc['Yorkshire and The Humber']\n",
    "midland_ser = df_all_data.loc['East Midlands'] +\\\n",
    "              df_all_data.loc['West Midlands']\n",
    "south_ser = df_all_data.loc['London'] +\\\n",
    "            df_all_data.loc['South East'] +\\\n",
    "            df_all_data.loc['South West']\n",
    "east_ser = df_all_data.loc['East of England']\n",
    "north_mid_south = [north_ser, midland_ser, south_ser, east_ser]\n",
    "general_regions = pd.DataFrame(north_mid_south)\n",
    "general_regions = general_regions.transpose().rename(columns={\"Unnamed 0\":\"North\",\n",
    "                                            \"Unnamed 1\":\"Midlands\",\n",
    "                                            \"Unnamed 2\":\"South\",\n",
    "                                            \"East of England\":\"East\"})\n",
    "general_regions"
   ]
  },
  {
   "cell_type": "markdown",
   "metadata": {},
   "source": [
    "---"
   ]
  },
  {
   "cell_type": "markdown",
   "metadata": {},
   "source": [
    "## State your hypothesis, and state the evidence that justifies it. (2 marks)"
   ]
  },
  {
   "cell_type": "markdown",
   "metadata": {
    "pycharm": {
     "name": "#%% md\n"
    }
   },
   "source": [
    "### Null hypothesis: The South West is similar to most of the regions in England\n",
    "- The differance is due to sampling not actual dfferance"
   ]
  },
  {
   "cell_type": "markdown",
   "metadata": {
    "pycharm": {
     "name": "#%% md\n"
    }
   },
   "source": [
    "### Alternate hypothesis: The South West region has the highest percentage people over 65 ( Retired)\n",
    "#### Evidence to Support the Alternate\n",
    "- Counts for the highest number of retired people"
   ]
  },
  {
   "cell_type": "code",
   "execution_count": 80,
   "metadata": {
    "pycharm": {
     "name": "#%%\n"
    }
   },
   "outputs": [
    {
     "data": {
      "text/plain": [
       "Count    South West\n",
       "dtype: object"
      ]
     },
     "execution_count": 80,
     "metadata": {},
     "output_type": "execute_result"
    }
   ],
   "source": [
    "df_retired.idxmax()"
   ]
  },
  {
   "cell_type": "markdown",
   "metadata": {},
   "source": [
    "- It Counts for 14.394%"
   ]
  },
  {
   "cell_type": "code",
   "execution_count": 81,
   "metadata": {
    "pycharm": {
     "name": "#%%\n"
    }
   },
   "outputs": [
    {
     "data": {
      "text/plain": [
       "14.393939393939394"
      ]
     },
     "execution_count": 81,
     "metadata": {},
     "output_type": "execute_result"
    }
   ],
   "source": [
    "(df_retired[\"Count\"].max() / np.sum(df_retired[\"Count\"])) * 100"
   ]
  },
  {
   "cell_type": "markdown",
   "metadata": {
    "pycharm": {
     "name": "#%% md\n"
    }
   },
   "source": [
    "- It has the highest mean of all regions:"
   ]
  },
  {
   "cell_type": "code",
   "execution_count": 82,
   "metadata": {
    "pycharm": {
     "name": "#%% \n"
    }
   },
   "outputs": [
    {
     "data": {
      "text/plain": [
       "43.291666666666664"
      ]
     },
     "execution_count": 82,
     "metadata": {},
     "output_type": "execute_result"
    }
   ],
   "source": [
    "general_info.loc[\"mean\"].max()"
   ]
  },
  {
   "cell_type": "markdown",
   "metadata": {
    "pycharm": {
     "name": "#%% md\n"
    }
   },
   "source": [
    "---"
   ]
  },
  {
   "cell_type": "markdown",
   "metadata": {},
   "source": [
    "## Plan the test. (3 marks)\n",
    "- We test the data using Simulation\n",
    "- calculate the senior difference between people over 65\n",
    "- Pull random data from South West and each region individually ( pool data together)\n",
    "- combined success probability\n",
    "- using that rate\n",
    "- generate two data\n",
    "- compare the mean to the test probability\n",
    "- the result will be an array of p-values of each region\n",
    "- we compare the results and we see the regions that are similar to the South West\n",
    "- alpha 0.05"
   ]
  },
  {
   "cell_type": "markdown",
   "metadata": {
    "pycharm": {
     "name": "#%% md\n"
    }
   },
   "source": [
    "---"
   ]
  },
  {
   "cell_type": "markdown",
   "metadata": {},
   "source": [
    "## Perform the statistical test of the hypothesis. (5 marks)"
   ]
  },
  {
   "cell_type": "code",
   "execution_count": 83,
   "metadata": {
    "pycharm": {
     "name": "#%%\n"
    }
   },
   "outputs": [
    {
     "name": "stdout",
     "output_type": "stream",
     "text": [
      "{'North East': 0.1094, 'North West': 0.0273, 'Yorkshire and The Humber': 0.0702, 'East Midlands': 0.092, 'West Midlands': 0.0856, 'East of England': 0.3187, 'London': 0.0005, 'South East': 0.1396}\n"
     ]
    }
   ],
   "source": [
    "from scipy.stats import bernoulli\n",
    "sw_count = df_test['South West'][df_test['South West'] >= 65].count()\n",
    "sw_percent = sw_count/400\n",
    "regions_p_value = {}\n",
    "\n",
    "for item in list(df_test.columns):\n",
    "    if item != \"South West\":\n",
    "        NTrials = 10000\n",
    "        data_sample = 400\n",
    "        data_sample2 = 400\n",
    "        count = 0\n",
    "        sample_count = df_test[item][df_test[item] >= 65].count()\n",
    "        test = abs(sw_count - sample_count)\n",
    "        ts = test/data_sample\n",
    "        sample_percent = sample_count/data_sample2\n",
    "        pool_prob = (sw_percent + sample_percent) /2\n",
    "        for trial in range(NTrials):\n",
    "            pool_result = bernoulli.rvs(pool_prob, size=data_sample)\n",
    "            m1 = np.mean(pool_result)\n",
    "            pool_result2 = bernoulli.rvs(pool_prob, size= data_sample2)\n",
    "            m2 = np.mean(pool_result2)\n",
    "            m = abs(m1 - m2)\n",
    "            if m >= ts:\n",
    "                count += 1\n",
    "        regions_p_value[item] = count/NTrials\n",
    "print(regions_p_value)"
   ]
  },
  {
   "cell_type": "code",
   "execution_count": 85,
   "metadata": {
    "pycharm": {
     "name": "#%%\n"
    }
   },
   "outputs": [
    {
     "name": "stdout",
     "output_type": "stream",
     "text": [
      "0.10508749999999999\n"
     ]
    }
   ],
   "source": [
    "regions_p_value_saved = {'North East': 0.1109, 'North West': 0.0246,\n",
    "                         'Yorkshire and The Humber': 0.0739,\n",
    "                         'East Midlands': 0.0912, 'West Midlands': 0.0889,\n",
    "                         'East of England': 0.3155, 'London': 0.0003,\n",
    "                         'South East': 0.1354}\n",
    "p_average = 0\n",
    "for i in regions_p_value_saved.values():\n",
    "    p_average += i\n",
    "\n",
    "print(p_average/8)"
   ]
  },
  {
   "cell_type": "code",
   "execution_count": 89,
   "metadata": {
    "pycharm": {
     "name": "#%%\n"
    }
   },
   "outputs": [
    {
     "name": "stdout",
     "output_type": "stream",
     "text": [
      "North West is significantly different\n",
      "London is significantly different\n"
     ]
    }
   ],
   "source": [
    "for region, p in regions_p_value_saved.items():\n",
    "    if p >= 0.05:\n",
    "        print(region + \" is not significantly different\")\n",
    "    else:\n",
    "        print(region + \" is significantly different\")"
   ]
  },
  {
   "cell_type": "markdown",
   "metadata": {},
   "source": [
    "******"
   ]
  },
  {
   "cell_type": "markdown",
   "metadata": {},
   "source": [
    "## Conclusions. (2 Marks)\n",
    "**Using the simulation method**: <br>\n",
    "The South west is not that different compared to other regions, we fail to reject the null hypothesis\n",
    "at alpha 0.05 <br>\n",
    "There is no majority of retired people in the region.\n",
    "Two areas were different compared to South West\n",
    "- London\n",
    "- North West\n",
    "\n",
    "---\n",
    "difference compared to each region\n",
    "- North East is not significantly different\n",
    "- North West is significantly different\n",
    "- Yorkshire and The Humber is not significantly different\n",
    "- East Midlands is not significantly different\n",
    "- West Midlands is not significantly different\n",
    "- East of England is not significantly different\n",
    "- London is significantly different\n",
    "- South East is not significantly different"
   ]
  },
  {
   "cell_type": "markdown",
   "metadata": {},
   "source": []
  },
  {
   "cell_type": "markdown",
   "metadata": {},
   "source": [
    " ***"
   ]
  },
  {
   "cell_type": "markdown",
   "metadata": {},
   "source": [
    "# The end!"
   ]
  }
 ],
 "metadata": {
  "kernelspec": {
   "display_name": "Python 3",
   "language": "python",
   "name": "python3"
  },
  "language_info": {
   "codemirror_mode": {
    "name": "ipython",
    "version": 3
   },
   "file_extension": ".py",
   "mimetype": "text/x-python",
   "name": "python",
   "nbconvert_exporter": "python",
   "pygments_lexer": "ipython3",
   "version": "3.8.2"
  }
 },
 "nbformat": 4,
 "nbformat_minor": 4
}